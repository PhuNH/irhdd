{
 "cells": [
  {
   "cell_type": "markdown",
   "metadata": {},
   "source": [
    "## Task 1"
   ]
  },
  {
   "cell_type": "code",
   "execution_count": 1,
   "metadata": {},
   "outputs": [],
   "source": [
    "import numpy as np"
   ]
  },
  {
   "cell_type": "code",
   "execution_count": 2,
   "metadata": {},
   "outputs": [],
   "source": [
    "def toyrnd(n):\n",
    "    vals = [0,1]\n",
    "    # There must be some relation between x1 and x2 here\n",
    "    x1 = np.random.choice(vals, size=n, p=[0.7, 0.3])\n",
    "    x2 = np.random.choice(vals, size=n, p=[0.6, 0.4])\n",
    "    return np.array([x1, x2])"
   ]
  },
  {
   "cell_type": "code",
   "execution_count": 3,
   "metadata": {},
   "outputs": [
    {
     "name": "stdout",
     "output_type": "stream",
     "text": [
      "(2, 10000)\n"
     ]
    }
   ],
   "source": [
    "n = 10000\n",
    "X = toyrnd(n)\n",
    "print(X.shape)"
   ]
  },
  {
   "cell_type": "code",
   "execution_count": 4,
   "metadata": {},
   "outputs": [
    {
     "name": "stdout",
     "output_type": "stream",
     "text": [
      "[[0.21278959 0.00140414]\n",
      " [0.00140414 0.23930844]]\n"
     ]
    }
   ],
   "source": [
    "mu = np.sum(X, axis=1)/n\n",
    "mu = np.reshape(mu, (2,1))\n",
    "X_bar = X-mu\n",
    "sigma = X_bar.dot(np.transpose(X_bar))/n\n",
    "print(sigma)"
   ]
  },
  {
   "cell_type": "markdown",
   "metadata": {},
   "source": [
    "## Task 2"
   ]
  },
  {
   "cell_type": "code",
   "execution_count": 5,
   "metadata": {},
   "outputs": [],
   "source": [
    "import imageio\n",
    "I1 = imageio.imread(\"data/mnist/d0/d0_0024.png\").astype(np.float64)/255\n",
    "I2 = imageio.imread(\"data/mnist/d5/d5_0024.png\").astype(np.float64)/255"
   ]
  },
  {
   "cell_type": "code",
   "execution_count": 6,
   "metadata": {},
   "outputs": [
    {
     "name": "stdout",
     "output_type": "stream",
     "text": [
      "9.524661125214534  in  0.00012373924255371094\n",
      "9.524661125214536  in  0.0003275871276855469\n",
      "9.524661125214534  in  0.0002105236053466797\n"
     ]
    }
   ],
   "source": [
    "diff = I1-I2\n",
    "import time\n",
    "start = time.time()\n",
    "first = np.linalg.norm(diff, 'fro')\n",
    "after_first = time.time()\n",
    "second = np.sqrt(np.trace(np.transpose(diff).dot(diff)))\n",
    "after_second = time.time()\n",
    "third = np.sqrt(np.sum(np.square(diff)))\n",
    "end = time.time()\n",
    "print(first, \" in \", after_first - start)\n",
    "print(second, \" in \", after_second - after_first)\n",
    "print(third, \" in \", end - after_second)"
   ]
  },
  {
   "cell_type": "code",
   "execution_count": 7,
   "metadata": {},
   "outputs": [
    {
     "name": "stdout",
     "output_type": "stream",
     "text": [
      "(40000, 784) (40000,)\n",
      "(1000, 784) (1000,)\n"
     ]
    }
   ],
   "source": [
    "n_categories = 10\n",
    "n_train = 4000\n",
    "n_validation = 100\n",
    "# n_test = 400\n",
    "sample_size = 28 ** 2\n",
    "\n",
    "X_train = np.zeros((n_categories * n_train, sample_size))\n",
    "Y_train = np.zeros(n_categories * n_train, np.int8)\n",
    "X_validation = np.zeros((n_categories * n_validation, sample_size))\n",
    "Y_validation = np.zeros(n_categories * n_validation, np.int8)\n",
    "# X_test = np.zeros((n_categories * n_test, sample_size))\n",
    "# Y_test = np.zeros(n_categories * n_test, np.int8)\n",
    "\n",
    "for i in range(n_categories):\n",
    "    cat_str = \"d\" + str(i)\n",
    "    pre_str = \"data/mnist/\" + cat_str + \"/\" + cat_str + \"_\"\n",
    "    \n",
    "    for j in np.arange(1,n_train+1):\n",
    "        X_train[i*n_train+j-1] = imageio.imread(pre_str + str(j).zfill(4) + \".png\").astype(np.float64).ravel()/255\n",
    "    Y_train[i*n_train : (i+1)*n_train] = i\n",
    "        \n",
    "    for j in np.arange(1+n_train,1+n_train+n_validation):\n",
    "        X_validation[i*n_validation+j-1-n_train] = imageio.imread(pre_str + str(j).zfill(4) + \".png\").astype(np.float64).ravel()/255\n",
    "    Y_validation[i*n_validation : (i+1)*n_validation] = i\n",
    "        \n",
    "#     for j in np.arange(1+n_train+n_validation,1+n_train+n_validation+n_test):\n",
    "#         X_test[i*n_test+j-1-n_train-n_validation] = imageio.imread(pre_str + str(j).zfill(4) + \".png\").astype(np.float64).ravel()/255\n",
    "#     Y_test[i*n_test : (i+1)*n_test] = i\n",
    "\n",
    "print(X_train.shape, Y_train.shape)\n",
    "print(X_validation.shape, Y_validation.shape)\n",
    "# print(X_test.shape, Y_test.shape)"
   ]
  },
  {
   "cell_type": "code",
   "execution_count": 16,
   "metadata": {},
   "outputs": [],
   "source": [
    "k = 20\n",
    "NN_validation = np.zeros((n_categories * n_validation, k), np.uint16)\n",
    "d_validation = np.zeros((n_categories * n_validation, k))\n",
    "Y_kNN_validation = np.zeros(n_categories * n_validation, np.int8)\n",
    "\n",
    "for i in range(n_categories * n_validation):\n",
    "    distances = np.linalg.norm(X_train - X_validation[i], ord=2, axis=1)\n",
    "    NN_validation[i] = np.argpartition(distances, k)[:k]\n",
    "    d_validation[i] = distances[NN_validation[i]]\n",
    "    nearest_labels = Y_train[NN_validation[i]]\n",
    "    Y_kNN_validation[i] = np.bincount(nearest_labels).argmax()"
   ]
  },
  {
   "cell_type": "code",
   "execution_count": 17,
   "metadata": {},
   "outputs": [
    {
     "name": "stdout",
     "output_type": "stream",
     "text": [
      "0.956\n",
      "[1.   1.   0.89 0.89 0.97 0.98 0.99 0.98 0.86 1.  ]\n"
     ]
    }
   ],
   "source": [
    "accuracy = (Y_kNN_validation == Y_validation).sum() / (n_categories * n_validation)\n",
    "print(accuracy)\n",
    "accuracies = np.zeros(n_categories)\n",
    "for i in range(n_categories):\n",
    "    accuracies[i] = (Y_kNN_validation[i*n_validation:(i+1)*n_validation] == Y_validation[i*n_validation:(i+1)*n_validation]).sum() / n_validation\n",
    "print(accuracies)"
   ]
  },
  {
   "cell_type": "code",
   "execution_count": 18,
   "metadata": {},
   "outputs": [],
   "source": [
    "Y_kNN_validation_w = np.zeros_like(Y_kNN_validation)\n",
    "d_by_cat = np.zeros(n_categories)\n",
    "\n",
    "for i in range(n_categories * n_validation):\n",
    "    Z = (1/d_validation[i]).sum()\n",
    "    nearest_labels = Y_train[NN_validation[i]]\n",
    "    for j in range(n_categories):\n",
    "        d_by_cat[j] = (1/Z) * d_validation[i][nearest_labels == j].sum()\n",
    "    Y_kNN_validation_w[i] = d_by_cat.argmax()"
   ]
  },
  {
   "cell_type": "code",
   "execution_count": 19,
   "metadata": {},
   "outputs": [
    {
     "name": "stdout",
     "output_type": "stream",
     "text": [
      "0.956\n",
      "[1.   1.   0.9  0.89 0.97 0.97 0.99 0.98 0.86 1.  ]\n"
     ]
    }
   ],
   "source": [
    "accuracy_w = (Y_kNN_validation_w == Y_validation).sum() / (n_categories * n_validation)\n",
    "print(accuracy_w)\n",
    "accuracies_w = np.zeros(n_categories)\n",
    "for i in range(n_categories):\n",
    "    accuracies_w[i] = (Y_kNN_validation_w[i*n_validation:(i+1)*n_validation] == Y_validation[i*n_validation:(i+1)*n_validation]).sum() / n_validation\n",
    "print(accuracies_w)"
   ]
  },
  {
   "cell_type": "code",
   "execution_count": 20,
   "metadata": {},
   "outputs": [
    {
     "name": "stdout",
     "output_type": "stream",
     "text": [
      "0\n"
     ]
    }
   ],
   "source": [
    "X = imageio.imread(\"data/mnist/d0/d0_5000.png\").astype(np.float64).ravel()/255\n",
    "d_X = np.linalg.norm(X_train - X, ord=2, axis=1)\n",
    "NN = np.argpartition(d_X, k)[:k]\n",
    "d_X_k = d_X[NN]\n",
    "NN_labels = Y_train[NN]\n",
    "Y = np.bincount(NN_labels).argmax()\n",
    "print(Y)"
   ]
  },
  {
   "cell_type": "code",
   "execution_count": null,
   "metadata": {},
   "outputs": [],
   "source": []
  }
 ],
 "metadata": {
  "kernelspec": {
   "display_name": "Python 3",
   "language": "python",
   "name": "python3"
  },
  "language_info": {
   "codemirror_mode": {
    "name": "ipython",
    "version": 3
   },
   "file_extension": ".py",
   "mimetype": "text/x-python",
   "name": "python",
   "nbconvert_exporter": "python",
   "pygments_lexer": "ipython3",
   "version": "3.7.5"
  }
 },
 "nbformat": 4,
 "nbformat_minor": 4
}
